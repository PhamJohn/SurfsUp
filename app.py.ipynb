{
 "cells": [
  {
   "cell_type": "code",
   "execution_count": 2,
   "id": "46823627",
   "metadata": {},
   "outputs": [],
   "source": [
    "import datetime as dt\n",
    "import numpy as np\n",
    "import pandas as pd"
   ]
  },
  {
   "cell_type": "code",
   "execution_count": 3,
   "id": "16397878",
   "metadata": {},
   "outputs": [],
   "source": [
    "# Get the dependencies we need for SQLAlchemy, which will help us access our data in the SQLite database.\n",
    "import sqlalchemy\n",
    "from sqlalchemy.ext.automap import automap_base\n",
    "from sqlalchemy.orm import Session\n",
    "from sqlalchemy import create_engine, func"
   ]
  },
  {
   "cell_type": "code",
   "execution_count": 22,
   "id": "4b4cd6e8",
   "metadata": {},
   "outputs": [],
   "source": [
    "# Import the dependencies that we need for Flask.\n",
    "from flask import Flask, jsonify"
   ]
  },
  {
   "cell_type": "code",
   "execution_count": 5,
   "id": "14f698e9",
   "metadata": {},
   "outputs": [],
   "source": [
    "# Access the SQLite database.\n",
    "engine = create_engine(\"sqlite:///hawaii.sqlite\")"
   ]
  },
  {
   "cell_type": "code",
   "execution_count": 6,
   "id": "a8a531e6",
   "metadata": {},
   "outputs": [],
   "source": [
    "# Function to access and query SQLite database file.\n",
    "Base = automap_base()"
   ]
  },
  {
   "cell_type": "code",
   "execution_count": 7,
   "id": "6342ae9a",
   "metadata": {},
   "outputs": [],
   "source": [
    "# Python Flask function that reflects the tables into SQLAlchemy.\n",
    "Base.prepare(engine, reflect=True)"
   ]
  },
  {
   "cell_type": "code",
   "execution_count": 8,
   "id": "eebb0822",
   "metadata": {},
   "outputs": [],
   "source": [
    "# Saving our references to each table. \n",
    "Measurement = Base.classes.measurement\n",
    "Station = Base.classes.station"
   ]
  },
  {
   "cell_type": "code",
   "execution_count": 9,
   "id": "9652d63a",
   "metadata": {},
   "outputs": [],
   "source": [
    "# Create session link from Python to database.\n",
    "session = Session(engine)"
   ]
  },
  {
   "cell_type": "code",
   "execution_count": 23,
   "id": "89d24ff9",
   "metadata": {},
   "outputs": [],
   "source": [
    "# Set up Flask. All of your routes should go after the app = Flask(__name__) line of code. \n",
    "# Otherwise, your code may not run properly.\n",
    "app = Flask(__name__)"
   ]
  },
  {
   "cell_type": "code",
   "execution_count": 24,
   "id": "96a49db7",
   "metadata": {},
   "outputs": [
    {
     "name": "stdout",
     "output_type": "stream",
     "text": [
      "example __name__ = %s __main__\n",
      "example is being run directly.\n"
     ]
    }
   ],
   "source": [
    "# Notice the __name__ variable in this code. This is a special type of variable in Python. \n",
    "# Its value depends on where and how the code is run. \n",
    "# For example, if we wanted to import our app.py file into another Python file \n",
    "# named example.py, the variable __name__ would be set to example.\n",
    "\n",
    "# When we run the script with python app.py, the __name__ variable will be set to __main__. \n",
    "# This indicates that we are not using any other file to run this code\n",
    "\n",
    "import app\n",
    "\n",
    "print(\"example __name__ = %s\", __name__)\n",
    "\n",
    "if __name__ == \"__main__\":\n",
    "    print(\"example is being run directly.\")\n",
    "else:\n",
    "    print(\"example is being imported\")"
   ]
  },
  {
   "cell_type": "code",
   "execution_count": 25,
   "id": "59cfe5ac",
   "metadata": {},
   "outputs": [
    {
     "ename": "SyntaxError",
     "evalue": "unexpected EOF while parsing (<ipython-input-25-15ccf4a28b2a>, line 2)",
     "output_type": "error",
     "traceback": [
      "\u001b[0;36m  File \u001b[0;32m\"<ipython-input-25-15ccf4a28b2a>\"\u001b[0;36m, line \u001b[0;32m2\u001b[0m\n\u001b[0;31m    @app.route(\"/\")\u001b[0m\n\u001b[0m                   ^\u001b[0m\n\u001b[0;31mSyntaxError\u001b[0m\u001b[0;31m:\u001b[0m unexpected EOF while parsing\n"
     ]
    }
   ],
   "source": [
    "# Define welcome route.\n",
    "@app.route('/')"
   ]
  },
  {
   "cell_type": "code",
   "execution_count": 15,
   "id": "713a0662",
   "metadata": {},
   "outputs": [],
   "source": [
    "# Add the precipitation, stations, tobs, and temp routes that we'll need for this module into our return statement.\n",
    "def welcome():\n",
    "    return(\n",
    "    '''\n",
    "    Welcome to the Climate Analysis API! </br>\n",
    "    Available Routes: <br/>\n",
    "    /api/v1.0/precipitation <br/>\n",
    "    /api/v1.0/stations <br/>\n",
    "    /api/v1.0/tobs <br/>\n",
    "    /api/v1.0/temp/start/end <br/>\n",
    "    ''')"
   ]
  },
  {
   "cell_type": "code",
   "execution_count": null,
   "id": "cf603e2a",
   "metadata": {},
   "outputs": [],
   "source": []
  }
 ],
 "metadata": {
  "kernelspec": {
   "display_name": "PythonData",
   "language": "python",
   "name": "pythondata"
  },
  "language_info": {
   "codemirror_mode": {
    "name": "ipython",
    "version": 3
   },
   "file_extension": ".py",
   "mimetype": "text/x-python",
   "name": "python",
   "nbconvert_exporter": "python",
   "pygments_lexer": "ipython3",
   "version": "3.7.10"
  }
 },
 "nbformat": 4,
 "nbformat_minor": 5
}
